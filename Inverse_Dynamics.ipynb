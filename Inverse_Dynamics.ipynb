{
  "cells": [
    {
      "cell_type": "code",
      "execution_count": 129,
      "metadata": {
        "id": "0aq431SgCyjU"
      },
      "outputs": [],
      "source": [
        "# !pip install \"gymnasium==0.29.1\" -q\n",
        "# !pip install myosuite -q\n",
        "# !pip install -q tqdm\n",
        "# !pip install -q scipy\n",
        "# !pip install -q matplotlib\n",
        "# !pip install -q pandas\n",
        "# !pip install -q skvideo\n",
        "# !pip install osqp -q\n"
      ]
    },
    {
      "cell_type": "code",
      "execution_count": 150,
      "metadata": {
        "id": "AeNB6l8dOZOw"
      },
      "outputs": [],
      "source": [
        "from IPython.display import HTML\n",
        "from myosuite.logger.grouped_datasets import Trace\n",
        "import matplotlib.pyplot as plt\n",
        "from base64 import b64encode\n",
        "import scipy.sparse as spa\n",
        "from copy import deepcopy\n",
        "from tqdm import tqdm\n",
        "import pandas as pd\n",
        "import math\n",
        "from myosuite.simhive.myo_sim.test_sims import TestSims as loader\n",
        "import numpy as np\n",
        "import skvideo.io\n",
        "import mujoco\n",
        "import osqp\n",
        "import os\n",
        "\n",
        "import logging\n",
        "\n",
        "# Show everything\n",
        "logging.getLogger().setLevel(logging.DEBUG)"
      ]
    },
    {
      "cell_type": "code",
      "execution_count": 151,
      "metadata": {
        "colab": {
          "base_uri": "https://localhost:8080/"
        },
        "id": "A5ihUtWfDDe7",
        "outputId": "a0eac6fd-507d-48fe-b9eb-6f403303e179"
      },
      "outputs": [],
      "source": [
        "# # Download the model from Myolab\n",
        "# \"\"\"\n",
        "# Model is from Myolab and not MyoHub. Thus can't use Test Sim loader. Ask community if I have to move them\n",
        "# \"\"\"\n",
        "# !git clone https://github.com/MyoHub/myosuite /Users/siddheshkanawade/Desktop/Siddhesh/Projects/myochallenge-2025/myosuite\n",
        "\n",
        "# # Clone into a specific folder\n",
        "# !git clone https://github.com/MyoHub/myo_sim.git /Users/siddheshkanawade/Desktop/Siddhesh/Projects/myochallenge-2025/myosuite/myosuite/simhive/myo_sim\n",
        "# %cd ./content/myosuite/myosuite/simhive/myo_sim\n",
        "# !git checkout 33f3ded946f55adbdcf963c99999587aadaf975f"
      ]
    },
    {
      "cell_type": "code",
      "execution_count": 152,
      "metadata": {
        "id": "rUPb-Egafo12"
      },
      "outputs": [],
      "source": [
        "model_path = \"/Users/siddheshkanawade/Desktop/Siddhesh/Projects/myochallenge-2025/myosuite/myosuite/simhive/myo_sim/arm/myoarm.xml\""
      ]
    },
    {
      "cell_type": "markdown",
      "metadata": {
        "id": "l_0X9dSeEV5U"
      },
      "source": [
        "# Utils"
      ]
    },
    {
      "cell_type": "code",
      "execution_count": 153,
      "metadata": {
        "id": "2owD3IhCEZfx"
      },
      "outputs": [],
      "source": [
        "# Load model - xml\n",
        "def get_sim(model_path):\n",
        "  return mujoco.MjModel.from_xml_path(model_path)\n",
        "\n",
        "# Load model - loader\n",
        "def get_sim_from_loader(model_name):\n",
        "  return loader.get_sim(None, model_name)\n",
        "\n",
        "def show_video(video_path, video_width = 400):\n",
        "    \"\"\"\n",
        "    Display a video within the notebook.\n",
        "    \"\"\"\n",
        "    video_file = open(video_path, \"r+b\").read()\n",
        "    video_url = f\"data:video/mp4;base64,{b64encode(video_file).decode()}\"\n",
        "    return HTML(f\"\"\"<video autoplay width={video_width} controls><source src=\"{video_url}\"></video>\"\"\")\n",
        "\n",
        "def solve_qp(P, q, lb, ub, x0):\n",
        "    \"\"\"\n",
        "    Solve a quadratic program.\n",
        "    \"\"\"\n",
        "    P = spa.csc_matrix(P)\n",
        "    A = spa.csc_matrix(spa.eye(q.shape[0]))\n",
        "    m = osqp.OSQP()\n",
        "    m.setup(P=P, q=q, A=A, l=lb, u=ub, verbose=False, max_iter=10000, eps_abs=1e-8, eps_rel=1e-8, polish=True)\n",
        "    m.warm_start(x=x0)\n",
        "    res = m.solve()\n",
        "    return res.x\n",
        "\n",
        "def plot_qxxx(qxxx, joint_names, labels):\n",
        "    \"\"\"\n",
        "    Plot generalized variables to be compared.\n",
        "    qxxx[:,0,-1] = time axis\n",
        "    qxxx[:,1:,n] = n-th sequence\n",
        "    qxxx[:,1:,-1] = reference sequence\n",
        "    \"\"\"\n",
        "    fig, axs = plt.subplots(4, 6, figsize=(12, 8))\n",
        "    axs = axs.flatten()\n",
        "    line_objects = []\n",
        "    linestyle = ['-'] * qxxx.shape[2]\n",
        "    linestyle[-1] = '--'\n",
        "    for j in range(1, len(joint_names)+1):\n",
        "        ax = axs[j-1]\n",
        "        for i in range(qxxx.shape[2]):\n",
        "            line, = ax.plot(qxxx[:, 0, -1], qxxx[:, j, i], linestyle[i])\n",
        "            if j == 1: # add only one set of lines to the legend\n",
        "                line_objects.append(line)\n",
        "        ax.set_xlim([qxxx[:, 0].min(), qxxx[:, 0].max()])\n",
        "        ax.set_ylim([qxxx[:, 1:, :].min(), qxxx[:, 1:, :].max()])\n",
        "        ax.set_title(joint_names[j-1])\n",
        "    legend_ax = axs[len(joint_names)] # create legend in the 24th subplot area\n",
        "    legend_ax.axis('off')\n",
        "    legend_ax.legend(line_objects, labels, loc='center')\n",
        "    plt.tight_layout()\n",
        "    plt.show()\n",
        "\n",
        "def plot_qxxx(qxxx, joint_names, labels, lw=20):\n",
        "    \"\"\"\n",
        "    Plot joint variables to be compared.\n",
        "    qxxx[:,0,-1] = time axis\n",
        "    qxxx[:,1:,n] = n-th sequence\n",
        "    \"\"\"\n",
        "    n_joints = len(joint_names)\n",
        "    ncols = 6\n",
        "    nrows = math.ceil((n_joints + 1) / ncols)  # +1 for legend subplot\n",
        "\n",
        "    fig, axs = plt.subplots(nrows, ncols, figsize=(3*ncols, 2*nrows))\n",
        "    axs = axs.flatten()\n",
        "\n",
        "    line_objects = []\n",
        "    linestyle = ['-'] * qxxx.shape[2]\n",
        "    linestyle[-1] = '--'\n",
        "\n",
        "    for j in range(1, n_joints+1):\n",
        "        ax = axs[j-1]\n",
        "        for i in range(qxxx.shape[2]):\n",
        "            line, = ax.plot(\n",
        "                qxxx[:, 0, -1],\n",
        "                qxxx[:, j, i],\n",
        "                linestyle[i],\n",
        "                linewidth=lw\n",
        "            )\n",
        "            if j == 1:  # add only one set of lines to the legend\n",
        "                line_objects.append(line)\n",
        "        ax.set_xlim([qxxx[:, 0].min(), qxxx[:, 0].max()])\n",
        "        ax.set_ylim([qxxx[:, 1:, :].min(), qxxx[:, 1:, :].max()])\n",
        "        ax.set_title(joint_names[j-1])\n",
        "\n",
        "    # legend in last subplot\n",
        "    legend_ax = axs[n_joints]\n",
        "    legend_ax.axis('off')\n",
        "    legend_ax.legend(line_objects, labels, loc='center')\n",
        "\n",
        "    plt.tight_layout()\n",
        "    plt.show()"
      ]
    },
    {
      "cell_type": "markdown",
      "metadata": {
        "id": "hER93UioTBWU"
      },
      "source": [
        "# Preprocess Trajectory"
      ]
    },
    {
      "cell_type": "code",
      "execution_count": null,
      "metadata": {
        "id": "rkzwEJ1rTTkt"
      },
      "outputs": [],
      "source": [
        "inverse_name_map = {\n",
        "    \"Abs_t2\": \"Abs_t2\",\n",
        "    \"Abs_t1\": \"Abs_t1\",\n",
        "    \"Abs_r3\": \"Abs_r3\",\n",
        "    \"pro_sup\": \"pro_sup\",\n",
        "    \"deviation\": \"deviation\",\n",
        "    # Spine\n",
        "    \"L5_S1_Flex_Ext\": \"flex_extension\",\n",
        "    \"L5_S1_Lat_Bending\": \"lat_bending\",\n",
        "    \"L5_S1_axial_rotation\": \"axial_rotation\",\n",
        "    \"L4_L5_Flex_Ext\": \"L4_L5_FE\",\n",
        "    \"L4_L5_Lat_Bending\": \"L4_L5_LB\",\n",
        "    \"L4_L5_axial_rotation\": \"L4_L5_AR\",\n",
        "    \"L3_L4_Flex_Ext\": \"L3_L4_FE\",\n",
        "    \"L3_L4_Lat_Bending\": \"L3_L4_LB\",\n",
        "    \"L3_L4_axial_rotation\": \"L3_L4_AR\",\n",
        "    \"L2_L3_Flex_Ext\": \"L2_L3_FE\",\n",
        "    \"L2_L3_Lat_Bending\": \"L2_L3_LB\",\n",
        "    \"L2_L3_axial_rotation\": \"L2_L3_AR\",\n",
        "    \"L1_L2_Flex_Ext\": \"L1_L2_FE\",\n",
        "    \"L1_L2_Lat_Bending\": \"L1_L2_LB\",\n",
        "    \"L1_L2_axial_rotation\": \"L1_L2_AR\",\n",
        "    # # Clavicle / scapula\n",
        "    \"sternoclavicular_r2_r\": \"sternoclavicular_r2\",\n",
        "    \"sternoclavicular_r3_r\": \"sternoclavicular_r3\",\n",
        "    \"unrotscap_r3_r\": \"unrotscap_r3\",\n",
        "    \"unrotscap_r2_r\": \"unrotscap_r2\",\n",
        "    \"acromioclavicular_r2_r\": \"acromioclavicular_r2\",\n",
        "    \"acromioclavicular_r3_r\": \"acromioclavicular_r3\",\n",
        "    \"acromioclavicular_r1_r\": \"acromioclavicular_r1\",\n",
        "    # # Humerus / arm\n",
        "    \"unrothum_r1_r\": \"unrothum_r1\",\n",
        "    \"unrothum_r3_r\": \"unrothum_r3\",\n",
        "    \"unrothum_r2_r\": \"unrothum_r2\",\n",
        "    \"elv_angle_r\": \"elv_angle\",\n",
        "    \"shoulder_elv_r\": \"shoulder_elv\",\n",
        "    \"shoulder1_r2_r\": \"shoulder1_r2\",\n",
        "    \"shoulder_rot_r\": \"shoulder_rot\",\n",
        "    \"elbow_flex_r\": \"elbow_flexion\",\n",
        "    # # Wrist & thumb\n",
        "    \"flexion_r\": \"flexion\",\n",
        "    \"cmc_abduction_r\": \"cmc_abduction\",\n",
        "    \"cmc_flexion_r\": \"cmc_flexion\",\n",
        "    \"mp_flexion_r\": \"mp_flexion\",\n",
        "    \"ip_flexion_r\": \"ip_flexion\",\n",
        "    # # Fingers\n",
        "    \"mcp2_flexion_r\": \"mcp2_flexion\",\n",
        "    \"mcp2_abduction_r\": \"mcp2_abduction\",\n",
        "    \"pm2_flexion_r\": \"pm2_flexion\",\n",
        "    \"md2_flexion_r\": \"md2_flexion\",\n",
        "    \"mcp3_flexion_r\": \"mcp3_flexion\",\n",
        "    \"mcp3_abduction_r\": \"mcp3_abduction\",\n",
        "    \"pm3_flexion_r\": \"pm3_flexion\",\n",
        "    \"md3_flexion_r\": \"md3_flexion\",\n",
        "    \"mcp4_flexion_r\": \"mcp4_flexion\",\n",
        "    \"mcp4_abduction_r\": \"mcp4_abduction\",\n",
        "    \"pm4_flexion_r\": \"pm4_flexion\",\n",
        "    \"md4_flexion_r\": \"md4_flexion\",\n",
        "    \"mcp5_flexion_r\": \"mcp5_flexion\",\n",
        "    \"mcp5_abduction_r\": \"mcp5_abduction\",\n",
        "    \"pm5_flexion_r\": \"pm5_flexion\",\n",
        "    \"md5_flexion_r\": \"md5_flexion\",\n",
        "    # # Freejoints\n",
        "    # \"paddle_freejoint\": \"paddle_freejoint\",\n",
        "    # \"pingpong_freejoint\": \"pingpong_freejoint\",\n",
        "}\n",
        "\n",
        "def interpolate(arr, horizon):\n",
        "  x_old = np.linspace(0, 1, len(arr))\n",
        "  x_new = np.linspace(0, 1, horizon)\n",
        "  \n",
        "  # print(x_old.shape, x_new.shape, arr.shape)\n",
        "\n",
        "  arr_upsampled = np.interp(x_new, x_old, arr)\n",
        "  return arr_upsampled\n",
        "\n",
        "\n",
        "\n",
        "def get_trajectory_data():\n",
        "  H5_FILE = \"/Users/siddheshkanawade/Desktop/Siddhesh/Projects/myosuite-table-tennis/content/data/trace_resized_trimmed_test_2_compressed.h5\"\n",
        "  h5trajectory = Trace.load(H5_FILE)\n",
        "\n",
        "  motion_name = list(h5trajectory.trace.keys())[0]\n",
        "\n",
        "  timesteps = np.array(h5trajectory[motion_name][\"time\"])\n",
        "  horizon = timesteps.shape[0]\n",
        "  # horizon = 1000\n",
        "  joint_dict = h5trajectory[motion_name][\"qpos\"]\n",
        "  data_root = h5trajectory[motion_name][\"qpos\"][\"myoskeleton_root\"]\n",
        "\n",
        "  data = {\n",
        "      # joint: interpolate(np.array(values).flatten(), horizon).reshape(horizon, -1)\n",
        "      joint: np.array(values).reshape(horizon, -1)\n",
        "      for joint, values in joint_dict.items()\n",
        "      # if joint != \"myoskeleton_root\"\n",
        "  }\n",
        "\n",
        "  # data['myoskeleton_root'] = data['myoskeleton_root'].reshape(horizon,-1)\n",
        "  # data['mtp_angle_l'] = data['mtp_flex_l']\n",
        "  # data['mtp_angle_r'] = data['mtp_flex_r']\n",
        "\n",
        "  for inv_jnt_name in inverse_name_map.keys():\n",
        "    data[inverse_name_map[inv_jnt_name]] = data[inv_jnt_name]\n",
        "    if inv_jnt_name != inverse_name_map[inv_jnt_name]:\n",
        "      del data[inv_jnt_name]\n",
        "\n",
        "  return data, horizon\n",
        "\n",
        "def get_trajectory_data_from_csv(csv_path):\n",
        "  \"\"\"\n",
        "  Return trajectory dictionary from csv\n",
        "  \"\"\"\n",
        "  traj_df = pd.read_csv(csv_path)\n",
        "  trajectory_data = {col: np.array(traj_df[col].iloc[:]).reshape(-1, 1) for col in traj_df.columns}\n",
        "  return trajectory_data, len(traj_df)\n",
        "\n",
        "\n",
        "def build_qpos_in_model_order(model, trajectory_data, steps):\n",
        "  \"\"\"\n",
        "  Rearrange trajectory_data (dict of joint_name -> (steps, dof) arrays)\n",
        "  into a (steps, nq) array matching MuJoCo's qpos order.\n",
        "  \"\"\"\n",
        "  nq = model.nq\n",
        "  trajectory = np.zeros((steps, nq))\n",
        "\n",
        "  for j in range(model.njnt):\n",
        "      jnt_name = model.joint(j).name\n",
        "      qpos_addr = model.jnt_qposadr[j]   # starting index in qpos\n",
        "      jtype = model.jnt_type[j]\n",
        "\n",
        "\n",
        "      # dimension of this joint in qpos\n",
        "      if jtype == 0:   # free\n",
        "          dim = 7\n",
        "      elif jtype == 1: # ball\n",
        "          dim = 4\n",
        "      else:            # hinge/slide\n",
        "          dim = 1\n",
        "\n",
        "      if jnt_name not in trajectory_data.keys():\n",
        "        print(f\"Joint: {jnt_name} not present. Initialise with zero value\")\n",
        "        # Initialise joint with zero value\n",
        "        trajectory_data[jnt_name] = np.zeros(dim)\n",
        "        continue\n",
        "\n",
        "      vals = trajectory_data[jnt_name]   # shape (steps, dim)\n",
        "      trajectory[:, qpos_addr:qpos_addr+dim] = vals\n",
        "\n",
        "  return trajectory\n"
      ]
    },
    {
      "cell_type": "markdown",
      "metadata": {
        "id": "XykduOQsSGVq"
      },
      "source": [
        "# Compute qrfc"
      ]
    },
    {
      "cell_type": "code",
      "execution_count": 155,
      "metadata": {
        "id": "i3UfkUy7SIbo"
      },
      "outputs": [],
      "source": [
        "def reference_kinematics_from_qpos(model, qpos_ref, dt):\n",
        "    \"\"\"Compute qvel_ref (steps, nv) and qacc_ref (steps, nv) from qpos_ref.\"\"\"\n",
        "    T = qpos_ref.shape[0] # Number of steps\n",
        "    nv = model.nv # number of degrees of freedom\n",
        "\n",
        "    qvel_ref = np.zeros((T, nv))\n",
        "    for i in range(T-1):\n",
        "        mujoco.mj_differentiatePos(model, qvel_ref[i], dt, qpos_ref[i+1], qpos_ref[i]) # Returns velocity qvel_ref[i] required to move from qpos_ref[i+1] to qpos_ref[i] in dt\n",
        "        # qvel_ref[i] = differentiate_pos_dm(model, qpos_ref[i+1], qpos_ref[i], dt)\n",
        "    qvel_ref[-1] = qvel_ref[-2]  # pad last - Introduce slight error. Reduced as number of steps increases\n",
        "\n",
        "    qacc_ref = np.zeros((T, nv))\n",
        "    for i in range(1, T):\n",
        "        qacc_ref[i] = (qvel_ref[i] - qvel_ref[i-1]) / dt\n",
        "    qacc_ref[0] = qacc_ref[1]  # pad first - Introduce slight error. Reduced as number of steps increases\n",
        "    return qvel_ref, qacc_ref\n",
        "\n",
        "def get_qfrc_differentiation(model, data, ref_qpos, ref_qvel, ref_qacc):\n",
        "    \"\"\"\n",
        "    Compute the generalized force needed to reach the target position in the next mujoco step.\n",
        "    \"\"\"\n",
        "    data_copy = deepcopy(data)\n",
        "    data_copy.qpos = ref_qpos\n",
        "    data_copy.qvel = ref_qvel\n",
        "    data_copy.qacc = ref_qacc\n",
        "\n",
        "    old_flags = model.opt.disableflags\n",
        "    model.opt.disableflags |= mujoco.mjtDisableBit.mjDSBL_CONSTRAINT # Constraints = contacts, joint limits, etc\n",
        "\n",
        "    mujoco.mj_forward(model, data_copy)   # compute bias, gains, etc\n",
        "    mujoco.mj_inverse(model, data_copy)   # compute inverse dynamics\n",
        "\n",
        "    model.opt.disableflags = old_flags # Enable contraints\n",
        "    return data_copy.qfrc_inverse\n",
        "\n",
        "def get_qfrc_posdifference(model, data, target_qpos):\n",
        "    \"\"\"\n",
        "    Compute the generalized force needed to reach the target position in the next mujoco step.\n",
        "    \"\"\"\n",
        "    data_copy = deepcopy(data)\n",
        "    data_copy.qacc = (((target_qpos - data.qpos) / model.opt.timestep) - data.qvel) / model.opt.timestep # Determine required acceleration\n",
        "    model.opt.disableflags += mujoco.mjtDisableBit.mjDSBL_CONSTRAINT # Constraints = contacts, joint limits, etc\n",
        "    mujoco.mj_inverse(model, data_copy)\n",
        "    model.opt.disableflags -= mujoco.mjtDisableBit.mjDSBL_CONSTRAINT # Enable contraints\n",
        "    return data_copy.qfrc_inverse"
      ]
    },
    {
      "cell_type": "markdown",
      "metadata": {
        "id": "WXKdIX93c4Oo"
      },
      "source": [
        "# Compute Control"
      ]
    },
    {
      "cell_type": "code",
      "execution_count": 156,
      "metadata": {
        "id": "P003VDknYNQb"
      },
      "outputs": [],
      "source": [
        "def compute_tau(model, data, act_type=\"rise\"):\n",
        "  \"\"\"\n",
        "  Actuators = muscles, motors, general, etc\n",
        "  tau_A/D = activation rise and activation decay\n",
        "  activation is only applicable for muscles\n",
        "  In case of non muscle activators, keep tau as 0\n",
        "  \"\"\"\n",
        "  tau = np.zeros(model.nu, dtype=np.float64)\n",
        "  for i in range(model.nu):\n",
        "    actnum = model.actuator_actnum[i]   # number of activation states for actuator i (usually 0 or 1). Muscle 1, motor 0\n",
        "    if actnum > 0:\n",
        "        a = model.actuator_actadr[i] # starting index into data.act where that actuator’s activation state lives.\n",
        "        act_i = float(data.act[a])\n",
        "        if act_type==\"rise\":\n",
        "          tau_base = model.actuator_dynprm[i, 0]\n",
        "          tau[i] = tau_base * (0.5 + 1.5 * act_i)\n",
        "        elif act_type==\"decay\":\n",
        "          tau_base = model.actuator_dynprm[i, 1]\n",
        "          tau[i] = tau_base / (0.5 + 1.5 * act_i)\n",
        "    else:\n",
        "        # print(i)\n",
        "        tau[i] = 0.0   # No activation state → tau = 0\n",
        "  return tau\n",
        "\n",
        "def map_activation_states_to_actuators(model, data):\n",
        "  act_full = np.zeros(model.nu, dtype=np.float64)\n",
        "\n",
        "  for i in range(model.nu):\n",
        "      actnum = model.actuator_actnum[i]   # 0 or 1\n",
        "      if actnum > 0:\n",
        "          adr = model.actuator_actadr[i]  # index into data.act\n",
        "          act_full[i] = data.act[adr]\n",
        "      else:\n",
        "          act_full[i] = 0.0   # stateless actuator → no activation\n",
        "  return act_full\n",
        "\n",
        "def get_ctrl(model, data, qpos_ref, qvel_ref, qacc_ref, qfrc, qfrc_scaler, qvel_scaler):\n",
        "  \"\"\"\n",
        "  Compute the control needed to reach the target position in the next mujoco step.\n",
        "  qfrc: generalized force resulting from inverse dynamics.\n",
        "  \"\"\"\n",
        "  act = data.act # shape = model.na = number of activation states\n",
        "  ctrl0 = data.ctrl\n",
        "  ts = model.opt.timestep\n",
        "  tA = compute_tau(model, data, \"rise\")\n",
        "  tD = compute_tau(model, data, \"decay\")\n",
        "  tausmooth = model.actuator_dynprm[:,2]\n",
        "  t1 = (tA - tD) * 1.875 / tausmooth\n",
        "  t2 = (tA + tD) * 0.5\n",
        "  # ---- gain, bias, and moment computation\n",
        "  data_copy = deepcopy(data)\n",
        "  data_copy.qpos = qpos_ref\n",
        "  data_copy.qvel = qvel_ref / qvel_scaler\n",
        "  data_copy.qacc = qacc_ref\n",
        "\n",
        "  mujoco.mj_step1(model, data_copy) # gain, bias, and moment depend on qpos and qvel\n",
        "\n",
        "  gain = np.zeros(model.nu)\n",
        "  bias = np.zeros(model.nu)\n",
        "  for idx_actuator in range(model.nu):\n",
        "      length = data_copy.actuator_length[idx_actuator]\n",
        "      lengthrange = model.actuator_lengthrange[idx_actuator]\n",
        "      velocity = data_copy.actuator_velocity[idx_actuator]\n",
        "      acc0 = model.actuator_acc0[idx_actuator]\n",
        "      prmb = model.actuator_biasprm[idx_actuator,:9]\n",
        "      prmg = model.actuator_gainprm[idx_actuator,:9]\n",
        "      bias[idx_actuator] = mujoco.mju_muscleBias(length, lengthrange, acc0, prmb)\n",
        "      gain[idx_actuator] = min(-1, mujoco.mju_muscleGain(length, velocity, lengthrange, acc0, prmg))\n",
        "\n",
        "  # Compute actuator_moment. data_copy.actuator_moment is sparse.\n",
        "  # https://github.com/google-deepmind/mujoco/blob/5d598a49a20b73deeb6e6b55b7adf2593ea3b3f6/python/LQR.ipynb#L494\n",
        "  AM = np.zeros((model.nu, model.nv))\n",
        "  mujoco.mju_sparse2dense(\n",
        "      AM,\n",
        "      data_copy.actuator_moment.reshape(-1),\n",
        "      data_copy.moment_rownnz,\n",
        "      data_copy.moment_rowadr,\n",
        "      data_copy.moment_colind.reshape(-1),\n",
        "  )\n",
        "  AM = AM.T\n",
        "\n",
        "  # ---- ctrl computation\n",
        "  P = 2 * AM.T @ AM\n",
        "  act = map_activation_states_to_actuators(model, data)\n",
        "  k = AM @ (gain * act) + AM @ bias - (qfrc / qfrc_scaler)\n",
        "  q = 2 * k @ AM\n",
        "  lb = gain * (1 - act) * ts / (t2 + t1 * (1 - act))\n",
        "  ub = - gain * act * ts / (t2 - t1 * act)\n",
        "  x0 = (gain * (ctrl0 - act) * ts) / ((ctrl0 - act) * t1 + t2)\n",
        "  x = solve_qp(P, q, lb, ub, x0)\n",
        "  ctrl = act + x * t2 / (gain * ts - x * t1)\n",
        "  return np.clip(ctrl,0,1)"
      ]
    },
    {
      "cell_type": "code",
      "execution_count": 157,
      "metadata": {
        "colab": {
          "base_uri": "https://localhost:8080/"
        },
        "id": "fnOy-kuuYSUk",
        "outputId": "938c59ce-93f8-4963-aa77-dcc89f100e49"
      },
      "outputs": [
        {
          "data": {
            "text/plain": [
              "((38,), (38,), (38,), 63, 38, 38)"
            ]
          },
          "execution_count": 157,
          "metadata": {},
          "output_type": "execute_result"
        }
      ],
      "source": [
        "model1 = mujoco.MjModel.from_xml_path(model_path)\n",
        "# model1 = get_sim_from_loader(\"hand/myohand.xml\")\n",
        "\n",
        "tausmooth = 5\n",
        "model1.actuator_dynprm[:,2] = tausmooth # Tausmooth is set to 5\n",
        "data1 = mujoco.MjData(model1)\n",
        "data1.qpos.shape, data1.qvel.shape, data1.qacc.shape, model1.nu, model1.nv, model1.nq"
      ]
    },
    {
      "cell_type": "code",
      "execution_count": 158,
      "metadata": {},
      "outputs": [],
      "source": [
        "# # Download 6_trajectory.csv\n",
        "# # make sure the /data folder exists\n",
        "# !mkdir -p ./data\n",
        "\n",
        "# # download the file into /data\n",
        "# !curl https://raw.githubusercontent.com/MyoHub/myosuite/main/docs/source/tutorials/data/6_trajectory.csv -O ./data/6_trajectory.csv"
      ]
    },
    {
      "cell_type": "code",
      "execution_count": 159,
      "metadata": {},
      "outputs": [],
      "source": [
        "# # --- load trajectory for myohand ---\n",
        "# traj_df = pd.read_csv('6_trajectory.csv')\n",
        "# qpos_ref = traj_df.values\n",
        "\n",
        "# qpos_ref.shape"
      ]
    },
    {
      "cell_type": "code",
      "execution_count": 160,
      "metadata": {
        "id": "BIrQ6kc31zM_"
      },
      "outputs": [
        {
          "name": "stdout",
          "output_type": "stream",
          "text": [
            "Reading: /Users/siddheshkanawade/Desktop/Siddhesh/Projects/myosuite-table-tennis/content/data/trace_resized_trimmed_test_2_compressed.h5\n"
          ]
        },
        {
          "data": {
            "text/plain": [
              "((1000, 38), (1000, 38), (1000, 38))"
            ]
          },
          "execution_count": 160,
          "metadata": {},
          "output_type": "execute_result"
        }
      ],
      "source": [
        "# # --- build the reference trajectory in *model order* ---\n",
        "trajectory_data, horizon = get_trajectory_data()\n",
        "# trajectory_data, horizon = get_trajectory_data_from_csv(\"6_trajectory.csv\")\n",
        "\n",
        "qpos_ref = build_qpos_in_model_order(model1, trajectory_data, horizon)\n",
        "\n",
        "assert qpos_ref.shape[1] == data1.qpos.shape[0], \"Shape mismatch for qpos\"\n",
        "\n",
        "dt = model1.opt.timestep\n",
        "qvel_ref, qacc_ref = reference_kinematics_from_qpos(model1, qpos_ref, dt)\n",
        "\n",
        "qpos_ref.shape, qvel_ref.shape, qacc_ref.shape"
      ]
    },
    {
      "cell_type": "code",
      "execution_count": null,
      "metadata": {
        "id": "6TiOAhQIuba1"
      },
      "outputs": [
        {
          "name": "stderr",
          "output_type": "stream",
          "text": [
            "100%|██████████| 1000/1000 [00:23<00:00, 42.12it/s]"
          ]
        },
        {
          "name": "stdout",
          "output_type": "stream",
          "text": [
            "Error(max rads): 3.1830779165136467\n"
          ]
        },
        {
          "name": "stderr",
          "output_type": "stream",
          "text": [
            "\n"
          ]
        }
      ],
      "source": [
        "all_ctrl = np.zeros((qpos_ref.shape[0], 1+model1.nu)) # model.nu = number of actuators in the model\n",
        "qpos_test = np.zeros((qpos_ref.shape[0], data1.qpos.shape[0]))\n",
        "for idx in tqdm(range(qpos_ref.shape[0])):\n",
        "    target_qpos = qpos_ref[idx, :]\n",
        "    # qfrc = get_qfrc_differentiation(model1, data1, qpos_ref[idx], qvel_ref[idx], qacc_ref[idx])\n",
        "    qfrc = get_qfrc_posdifference(model1, data1, target_qpos)\n",
        "    # data1.qfrc_applied = qfrc\n",
        "    ctrl = get_ctrl(model1, data1, qpos_ref[idx], qvel_ref[idx], qacc_ref[idx], qfrc, 10, 5)\n",
        "    \n",
        "    # Setting qpos and qvel nullified the control - hence remove them\n",
        "    # data1.qpos = qpos_ref[idx]\n",
        "    # data1.qvel = qvel_ref[idx]\n",
        "    data1.ctrl = ctrl\n",
        "    mujoco.mj_step(model1, data1)\n",
        "    \n",
        "    qpos_test[idx,:] = data1.qpos\n",
        "    all_ctrl[idx,:] = np.hstack((data1.time, ctrl))\n",
        "    \n",
        "\n",
        "# Error metrics\n",
        "error = ((qpos_test[:,:] - qpos_ref[:,:])**2).mean(axis=0)\n",
        "\n",
        "print(f\"Error(max rads): {error.max()}\")"
      ]
    },
    {
      "cell_type": "code",
      "execution_count": null,
      "metadata": {},
      "outputs": [],
      "source": []
    },
    {
      "cell_type": "code",
      "execution_count": null,
      "metadata": {},
      "outputs": [],
      "source": []
    },
    {
      "cell_type": "markdown",
      "metadata": {},
      "source": [
        "# Render video - both test and reference model"
      ]
    },
    {
      "cell_type": "code",
      "execution_count": 162,
      "metadata": {},
      "outputs": [
        {
          "name": "stderr",
          "output_type": "stream",
          "text": [
            "100%|██████████| 1000/1000 [00:18<00:00, 54.11it/s]\n"
          ]
        },
        {
          "name": "stdout",
          "output_type": "stream",
          "text": [
            "Videos saved successfully.\n"
          ]
        }
      ],
      "source": [
        "import mujoco\n",
        "import numpy as np\n",
        "import os, skvideo.io\n",
        "from tqdm import tqdm\n",
        "\n",
        "# ---- load models\n",
        "model_ref = mujoco.MjModel.from_xml_path(model_path)\n",
        "model_ref.actuator_dynprm[:, 2] = tausmooth\n",
        "data_ref = mujoco.MjData(model_ref)\n",
        "\n",
        "model_test = mujoco.MjModel.from_xml_path(model_path)\n",
        "model_test.actuator_dynprm[:, 2] = tausmooth\n",
        "data_test = mujoco.MjData(model_test)\n",
        "\n",
        "# ---- camera (front view)\n",
        "camera = mujoco.MjvCamera()\n",
        "mujoco.mjv_defaultCamera(camera)\n",
        "camera.azimuth = 90       # 0=front, 90=left, 180=back, 270=right\n",
        "camera.elevation = -10   # tilt downward\n",
        "camera.distance = 2.0\n",
        "camera.lookat[:] = [0, 0, 1]\n",
        "\n",
        "# ---- visualization options\n",
        "scene_option = mujoco.MjvOption()\n",
        "mujoco.mjv_defaultOption(scene_option)\n",
        "\n",
        "# ---- renderers (offscreen)\n",
        "renderer_ref = mujoco.Renderer(model_ref, height=480, width=640)\n",
        "renderer_test = mujoco.Renderer(model_test, height=480, width=640)\n",
        "\n",
        "frames_ref, frames_test = [], []\n",
        "\n",
        "# ---- reset test simulation to match reference start\n",
        "mujoco.mj_resetData(model_test, data_test)\n",
        "data_test.qpos[:] = qpos_ref[0]   # start same as reference\n",
        "data_test.qvel[:] = 0             # zero velocity\n",
        "mujoco.mj_forward(model_test, data_test)\n",
        "\n",
        "\n",
        "# ---- generation loop\n",
        "# act_force_norms = []\n",
        "for idx in tqdm(range(qpos_ref.shape[0])):\n",
        "\n",
        "    # --- Reference trajectory (direct playback)\n",
        "    data_ref.qpos[:] = qpos_ref[idx]\n",
        "    mujoco.mj_step1(model_ref, data_ref)\n",
        "    \n",
        "    # renderer_ref.update_scene(data_ref, camera=camera, scene_option=scene_option)\n",
        "    # frames_ref.append(renderer_ref.render())\n",
        "\n",
        "    # --- Test trajectory (true simulation with controls)\n",
        "    ctrl_values = all_ctrl[idx, 1:]\n",
        "    ctrl_values = np.nan_to_num(all_ctrl[idx, 1:], nan=0.0, posinf=0.0, neginf=0.0)\n",
        "    data_test.ctrl[:] = ctrl_values  # apply controls\n",
        "    \n",
        "    # Advance one time step\n",
        "    mujoco.mj_step(model_test, data_test)  # advance simulation\n",
        "    \n",
        "    # renderer_test.update_scene(data_test, camera=camera, scene_option=scene_option)\n",
        "    # frames_test.append(renderer_test.render())\n",
        "    \n",
        "    if not idx % round(0.3/(model_test.opt.timestep*25)):\n",
        "        renderer_ref.update_scene(data_ref, camera=camera, scene_option=scene_option)\n",
        "        frames_ref.append(renderer_ref.render())\n",
        "        \n",
        "        renderer_test.update_scene(data_test, camera=camera, scene_option=scene_option)\n",
        "        frames_test.append(renderer_test.render())\n",
        "\n",
        "# -----------------------------\n",
        "# Diagnostics\n",
        "# -----------------------------\n",
        "# act_force_norms = np.array(act_force_norms)\n",
        "# print(f\"[DEBUG] qfrc_actuator norm: min={act_force_norms.min():.3e}, \"\n",
        "#       f\"median={np.median(act_force_norms):.3e}, max={act_force_norms.max():.3e}\")\n",
        "# if np.allclose(act_force_norms, 0):\n",
        "#     print(\"[WARNING] Actuator forces are ~zero for all steps. \"\n",
        "#           \"Likely causes: wrong ctrl dimension/order, actuators disabled, \"\n",
        "#           \"zero gains/gear, or controls outside actuator range and clamped.\")\n",
        "\n",
        "\n",
        "# ---- save videos\n",
        "outdir = \"/Users/siddheshkanawade/Desktop/Siddhesh/Projects/myosuite-table-tennis/content/videos\"\n",
        "os.makedirs(outdir, exist_ok=True)\n",
        "\n",
        "skvideo.io.vwrite(os.path.join(outdir, \"myohand_ref.mp4\"),\n",
        "                  np.asarray(frames_ref),\n",
        "                  outputdict={\"-pix_fmt\": \"yuv420p\"})\n",
        "\n",
        "skvideo.io.vwrite(os.path.join(outdir, \"myohand_test.mp4\"),\n",
        "                  np.asarray(frames_test),\n",
        "                  outputdict={\"-pix_fmt\": \"yuv420p\"})\n",
        "\n",
        "print(\"Videos saved successfully.\")\n"
      ]
    },
    {
      "cell_type": "code",
      "execution_count": null,
      "metadata": {},
      "outputs": [],
      "source": []
    },
    {
      "cell_type": "code",
      "execution_count": null,
      "metadata": {},
      "outputs": [],
      "source": []
    }
  ],
  "metadata": {
    "colab": {
      "provenance": []
    },
    "kernelspec": {
      "display_name": "myosuite",
      "language": "python",
      "name": "python3"
    },
    "language_info": {
      "codemirror_mode": {
        "name": "ipython",
        "version": 3
      },
      "file_extension": ".py",
      "mimetype": "text/x-python",
      "name": "python",
      "nbconvert_exporter": "python",
      "pygments_lexer": "ipython3",
      "version": "3.9.23"
    }
  },
  "nbformat": 4,
  "nbformat_minor": 0
}
